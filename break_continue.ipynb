{
  "nbformat": 4,
  "nbformat_minor": 0,
  "metadata": {
    "colab": {
      "name": "break_continue.ipynb",
      "provenance": [],
      "authorship_tag": "ABX9TyOyK/wRlePUBfjiMzeHglxK",
      "include_colab_link": true
    },
    "kernelspec": {
      "name": "python3",
      "display_name": "Python 3"
    }
  },
  "cells": [
    {
      "cell_type": "markdown",
      "metadata": {
        "id": "view-in-github",
        "colab_type": "text"
      },
      "source": [
        "<a href=\"https://colab.research.google.com/github/ludmillaconti/python/blob/main/break_continue.ipynb\" target=\"_parent\"><img src=\"https://colab.research.google.com/assets/colab-badge.svg\" alt=\"Open In Colab\"/></a>"
      ]
    },
    {
      "cell_type": "markdown",
      "metadata": {
        "id": "fKbXfSyLWRMc"
      },
      "source": [
        ""
      ]
    },
    {
      "cell_type": "code",
      "metadata": {
        "id": "fwIf_OdBgQvN",
        "colab": {
          "base_uri": "https://localhost:8080/"
        },
        "outputId": "ddd83658-4ca5-4336-b89b-7e0a0a0405b8"
      },
      "source": [
        "vendas = [1,2,3]\n",
        "\n",
        "meta = 110\n",
        "\n",
        "for venda in vendas:\n",
        "  if venda < meta:\n",
        "    print('a loja não ganha bonus')\n",
        "    break\n",
        "  print(venda)"
      ],
      "execution_count": 52,
      "outputs": [
        {
          "output_type": "stream",
          "text": [
            "a loja não ganha bonus\n"
          ],
          "name": "stdout"
        }
      ]
    },
    {
      "cell_type": "code",
      "metadata": {
        "id": "c6pBacKPkfoP"
      },
      "source": [
        "meta = 130\n",
        "\n",
        "for venda in vendas:\n",
        "  if venda < meta:\n",
        "    continue"
      ],
      "execution_count": 53,
      "outputs": []
    },
    {
      "cell_type": "code",
      "metadata": {
        "colab": {
          "base_uri": "https://localhost:8080/"
        },
        "id": "zztK0YYrkoXi",
        "outputId": "a401d30b-df36-48d0-f320-adbe01b88f76"
      },
      "source": [
        "print(venda)"
      ],
      "execution_count": 55,
      "outputs": [
        {
          "output_type": "stream",
          "text": [
            "3\n"
          ],
          "name": "stdout"
        }
      ]
    },
    {
      "cell_type": "code",
      "metadata": {
        "id": "7B80f_XGkp5n"
      },
      "source": [
        ""
      ],
      "execution_count": null,
      "outputs": []
    }
  ]
}