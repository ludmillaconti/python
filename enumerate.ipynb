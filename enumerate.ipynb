{
  "nbformat": 4,
  "nbformat_minor": 0,
  "metadata": {
    "colab": {
      "name": "enumerate.ipynb",
      "provenance": [],
      "authorship_tag": "ABX9TyObsm/CseS3YFULz94hPzkP",
      "include_colab_link": true
    },
    "kernelspec": {
      "name": "python3",
      "display_name": "Python 3"
    }
  },
  "cells": [
    {
      "cell_type": "markdown",
      "metadata": {
        "id": "view-in-github",
        "colab_type": "text"
      },
      "source": [
        "<a href=\"https://colab.research.google.com/github/ludmillaconti/python/blob/main/enumerate.ipynb\" target=\"_parent\"><img src=\"https://colab.research.google.com/assets/colab-badge.svg\" alt=\"Open In Colab\"/></a>"
      ]
    },
    {
      "cell_type": "code",
      "metadata": {
        "colab": {
          "base_uri": "https://localhost:8080/"
        },
        "id": "Z4jWNSj2OTIf",
        "outputId": "103ed9bb-1406-49f2-d2f9-932bf7d689b7"
      },
      "source": [
        "#se vc não precisar pegar índice por índice não compensa o comando enumerate\n",
        "\n",
        "\n",
        "\n",
        "funcionários = ['a', 'b', 'c']\n",
        "\n",
        "for i, funcionários in enumerate(funcionários):\n",
        "  print(funcionários)\n"
      ],
      "execution_count": 11,
      "outputs": [
        {
          "output_type": "stream",
          "text": [
            "a\n",
            "b\n",
            "c\n"
          ],
          "name": "stdout"
        }
      ]
    },
    {
      "cell_type": "code",
      "metadata": {
        "colab": {
          "base_uri": "https://localhost:8080/"
        },
        "id": "RbhB1qd9Qo6K",
        "outputId": "a3ee937a-fe31-4926-aa3a-0670c0be8693"
      },
      "source": [
        "estoque = [1,2,3,4]\n",
        "produtos = ['a', 'b', 'c','d']\n",
        "nivel_minimo = 2\n",
        "\n",
        "for i, qntd in enumerate(estoque):\n",
        "  if qntd < nivel_minimo:\n",
        "    print(produtos[i])\n"
      ],
      "execution_count": 13,
      "outputs": [
        {
          "output_type": "stream",
          "text": [
            "a\n"
          ],
          "name": "stdout"
        }
      ]
    },
    {
      "cell_type": "code",
      "metadata": {
        "id": "T5a2spBdSi3J"
      },
      "source": [
        ""
      ],
      "execution_count": null,
      "outputs": []
    }
  ]
}