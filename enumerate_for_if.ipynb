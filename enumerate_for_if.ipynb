{
  "nbformat": 4,
  "nbformat_minor": 0,
  "metadata": {
    "colab": {
      "name": "enumerate_for_if.ipynb",
      "provenance": [],
      "authorship_tag": "ABX9TyP7aV8aYX55VxeRTmItNknH",
      "include_colab_link": true
    },
    "kernelspec": {
      "name": "python3",
      "display_name": "Python 3"
    }
  },
  "cells": [
    {
      "cell_type": "markdown",
      "metadata": {
        "id": "view-in-github",
        "colab_type": "text"
      },
      "source": [
        "<a href=\"https://colab.research.google.com/github/ludmillaconti/python/blob/main/enumerate_for_if.ipynb\" target=\"_parent\"><img src=\"https://colab.research.google.com/assets/colab-badge.svg\" alt=\"Open In Colab\"/></a>"
      ]
    },
    {
      "cell_type": "markdown",
      "metadata": {
        "id": "fKbXfSyLWRMc"
      },
      "source": [
        ""
      ]
    },
    {
      "cell_type": "code",
      "metadata": {
        "id": "RIY9-m34WSBX"
      },
      "source": [
        "estoque = [[0,1], [1,2], [2,3]]"
      ],
      "execution_count": 15,
      "outputs": []
    },
    {
      "cell_type": "code",
      "metadata": {
        "colab": {
          "base_uri": "https://localhost:8080/"
        },
        "id": "Qah0pGrdZWXF",
        "outputId": "89af56d5-b836-4cc1-af5a-85adfe1d19dc"
      },
      "source": [
        "fabricas = ['a','b','c']\n",
        "nivel_minimo = 1\n",
        "fabricas_abaixo_nivel = []\n",
        "\n",
        "for lista in estoque:\n",
        "  for qtde in lista:\n",
        "    if qtde <= nivel_minimo:\n",
        "      print(qtde)"
      ],
      "execution_count": 24,
      "outputs": [
        {
          "output_type": "stream",
          "text": [
            "0\n",
            "1\n",
            "1\n"
          ],
          "name": "stdout"
        }
      ]
    },
    {
      "cell_type": "code",
      "metadata": {
        "colab": {
          "base_uri": "https://localhost:8080/"
        },
        "id": "0hOGyoLLZiQJ",
        "outputId": "d95e4079-3cd7-42c9-8cb8-d8438434965a"
      },
      "source": [
        "for i,lista in enumerate(estoque):\n",
        "  for qtde in lista:\n",
        "    if qtde < nivel_minimo:\n",
        "        if fabricas[i] in fabricas_abaixo_nivel:\n",
        "          pass\n",
        "        else:\n",
        "          fabricas_abaixo_nivel.append(fabricas[i])\n",
        "\n",
        "print(fabricas[i])"
      ],
      "execution_count": 27,
      "outputs": [
        {
          "output_type": "stream",
          "text": [
            "c\n"
          ],
          "name": "stdout"
        }
      ]
    },
    {
      "cell_type": "code",
      "metadata": {
        "id": "WvTD9P36asJ-"
      },
      "source": [
        ""
      ],
      "execution_count": null,
      "outputs": []
    }
  ]
}